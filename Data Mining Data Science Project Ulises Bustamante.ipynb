{
 "cells": [
  {
   "cell_type": "markdown",
   "id": "665af8d0",
   "metadata": {},
   "source": [
    "# DATA MINING\n",
    "\n",
    "# ESPECIALIZACION EN DATA SCIENCE\n",
    "\n",
    "# ULISES JOSÉ BUSTAMANTE MORA"
   ]
  },
  {
   "cell_type": "markdown",
   "id": "1a3ddd84",
   "metadata": {},
   "source": [
    "## INTRODUCCION\n",
    "\n",
    "El presente trabajo tiene como objetivo analizar y pronosticar cambios en la migración de Nueva Zelanda, mediante el uso de datos históricos de dicho país para poder resolver el presente ejercicio con el fin de demostrar el gran valor que ofrecen las técnicas de minería de datos aplicados a temas económicos."
   ]
  },
  {
   "cell_type": "markdown",
   "id": "4ea8e64a",
   "metadata": {},
   "source": [
    "### Librerias a utilizar"
   ]
  },
  {
   "cell_type": "code",
   "execution_count": 1,
   "id": "bf7fc2f0",
   "metadata": {},
   "outputs": [],
   "source": [
    "import numpy as np\n",
    "from scipy import stats\n",
    "import pandas as pd\n",
    "import matplotlib.pyplot as plt\n",
    "import seaborn as sns\n",
    "\n",
    "import warnings\n",
    "warnings.filterwarnings('ignore')\n",
    "\n",
    "%matplotlib inline"
   ]
  },
  {
   "cell_type": "markdown",
   "id": "6750d878",
   "metadata": {},
   "source": [
    "### Carga del conjunto de datos"
   ]
  },
  {
   "cell_type": "code",
   "execution_count": 2,
   "id": "d4f27dcc",
   "metadata": {},
   "outputs": [
    {
     "data": {
      "text/html": [
       "<div>\n",
       "<style scoped>\n",
       "    .dataframe tbody tr th:only-of-type {\n",
       "        vertical-align: middle;\n",
       "    }\n",
       "\n",
       "    .dataframe tbody tr th {\n",
       "        vertical-align: top;\n",
       "    }\n",
       "\n",
       "    .dataframe thead th {\n",
       "        text-align: right;\n",
       "    }\n",
       "</style>\n",
       "<table border=\"1\" class=\"dataframe\">\n",
       "  <thead>\n",
       "    <tr style=\"text-align: right;\">\n",
       "      <th></th>\n",
       "      <th>Measure</th>\n",
       "      <th>Country</th>\n",
       "      <th>Citizenship</th>\n",
       "      <th>Year</th>\n",
       "      <th>Value</th>\n",
       "    </tr>\n",
       "  </thead>\n",
       "  <tbody>\n",
       "    <tr>\n",
       "      <th>0</th>\n",
       "      <td>Arrivals</td>\n",
       "      <td>Oceania</td>\n",
       "      <td>New Zealand Citizen</td>\n",
       "      <td>1979</td>\n",
       "      <td>11817.0</td>\n",
       "    </tr>\n",
       "    <tr>\n",
       "      <th>1</th>\n",
       "      <td>Arrivals</td>\n",
       "      <td>Oceania</td>\n",
       "      <td>Australian Citizen</td>\n",
       "      <td>1979</td>\n",
       "      <td>4436.0</td>\n",
       "    </tr>\n",
       "    <tr>\n",
       "      <th>2</th>\n",
       "      <td>Arrivals</td>\n",
       "      <td>Oceania</td>\n",
       "      <td>Total All Citizenships</td>\n",
       "      <td>1979</td>\n",
       "      <td>19965.0</td>\n",
       "    </tr>\n",
       "    <tr>\n",
       "      <th>3</th>\n",
       "      <td>Arrivals</td>\n",
       "      <td>Antarctica</td>\n",
       "      <td>New Zealand Citizen</td>\n",
       "      <td>1979</td>\n",
       "      <td>10.0</td>\n",
       "    </tr>\n",
       "    <tr>\n",
       "      <th>4</th>\n",
       "      <td>Arrivals</td>\n",
       "      <td>Antarctica</td>\n",
       "      <td>Australian Citizen</td>\n",
       "      <td>1979</td>\n",
       "      <td>0.0</td>\n",
       "    </tr>\n",
       "    <tr>\n",
       "      <th>...</th>\n",
       "      <td>...</td>\n",
       "      <td>...</td>\n",
       "      <td>...</td>\n",
       "      <td>...</td>\n",
       "      <td>...</td>\n",
       "    </tr>\n",
       "    <tr>\n",
       "      <th>86521</th>\n",
       "      <td>Net</td>\n",
       "      <td>Not stated</td>\n",
       "      <td>Australian Citizen</td>\n",
       "      <td>2016</td>\n",
       "      <td>80.0</td>\n",
       "    </tr>\n",
       "    <tr>\n",
       "      <th>86522</th>\n",
       "      <td>Net</td>\n",
       "      <td>Not stated</td>\n",
       "      <td>Total All Citizenships</td>\n",
       "      <td>2016</td>\n",
       "      <td>3177.0</td>\n",
       "    </tr>\n",
       "    <tr>\n",
       "      <th>86523</th>\n",
       "      <td>Net</td>\n",
       "      <td>All countries</td>\n",
       "      <td>New Zealand Citizen</td>\n",
       "      <td>2016</td>\n",
       "      <td>-1818.0</td>\n",
       "    </tr>\n",
       "    <tr>\n",
       "      <th>86524</th>\n",
       "      <td>Net</td>\n",
       "      <td>All countries</td>\n",
       "      <td>Australian Citizen</td>\n",
       "      <td>2016</td>\n",
       "      <td>3487.0</td>\n",
       "    </tr>\n",
       "    <tr>\n",
       "      <th>86525</th>\n",
       "      <td>Net</td>\n",
       "      <td>All countries</td>\n",
       "      <td>Total All Citizenships</td>\n",
       "      <td>2016</td>\n",
       "      <td>70588.0</td>\n",
       "    </tr>\n",
       "  </tbody>\n",
       "</table>\n",
       "<p>86526 rows × 5 columns</p>\n",
       "</div>"
      ],
      "text/plain": [
       "        Measure        Country             Citizenship  Year    Value\n",
       "0      Arrivals        Oceania     New Zealand Citizen  1979  11817.0\n",
       "1      Arrivals        Oceania      Australian Citizen  1979   4436.0\n",
       "2      Arrivals        Oceania  Total All Citizenships  1979  19965.0\n",
       "3      Arrivals     Antarctica     New Zealand Citizen  1979     10.0\n",
       "4      Arrivals     Antarctica      Australian Citizen  1979      0.0\n",
       "...         ...            ...                     ...   ...      ...\n",
       "86521       Net     Not stated      Australian Citizen  2016     80.0\n",
       "86522       Net     Not stated  Total All Citizenships  2016   3177.0\n",
       "86523       Net  All countries     New Zealand Citizen  2016  -1818.0\n",
       "86524       Net  All countries      Australian Citizen  2016   3487.0\n",
       "86525       Net  All countries  Total All Citizenships  2016  70588.0\n",
       "\n",
       "[86526 rows x 5 columns]"
      ]
     },
     "execution_count": 2,
     "metadata": {},
     "output_type": "execute_result"
    }
   ],
   "source": [
    "df = pd.read_csv(\"migration_nz 2.0.csv\")\n",
    "df"
   ]
  },
  {
   "cell_type": "markdown",
   "id": "fbfe19fb",
   "metadata": {},
   "source": [
    "# Comprensión de datos"
   ]
  },
  {
   "cell_type": "markdown",
   "id": "179aeb3f",
   "metadata": {},
   "source": [
    "### Número total de entradas y de datos faltantes y de tipos de datos"
   ]
  },
  {
   "cell_type": "code",
   "execution_count": 3,
   "id": "473a1789",
   "metadata": {
    "scrolled": true
   },
   "outputs": [
    {
     "name": "stdout",
     "output_type": "stream",
     "text": [
      "<class 'pandas.core.frame.DataFrame'>\n",
      "RangeIndex: 86526 entries, 0 to 86525\n",
      "Data columns (total 5 columns):\n",
      " #   Column       Non-Null Count  Dtype  \n",
      "---  ------       --------------  -----  \n",
      " 0   Measure      86526 non-null  object \n",
      " 1   Country      86526 non-null  object \n",
      " 2   Citizenship  86526 non-null  object \n",
      " 3   Year         86526 non-null  int64  \n",
      " 4   Value        86454 non-null  float64\n",
      "dtypes: float64(1), int64(1), object(3)\n",
      "memory usage: 3.3+ MB\n"
     ]
    }
   ],
   "source": [
    "df.info()"
   ]
  },
  {
   "cell_type": "markdown",
   "id": "25ef632b",
   "metadata": {},
   "source": [
    "### Valores únicos en la columna de Measure"
   ]
  },
  {
   "cell_type": "code",
   "execution_count": 4,
   "id": "443def51",
   "metadata": {},
   "outputs": [
    {
     "data": {
      "text/plain": [
       "array(['Arrivals', 'Departures', 'Net'], dtype=object)"
      ]
     },
     "execution_count": 4,
     "metadata": {},
     "output_type": "execute_result"
    }
   ],
   "source": [
    "df[\"Measure\"].unique()"
   ]
  },
  {
   "cell_type": "markdown",
   "id": "1f3eacd7",
   "metadata": {},
   "source": [
    "### Valores únicos en la columna de Citizenship"
   ]
  },
  {
   "cell_type": "code",
   "execution_count": 5,
   "id": "8bb95a4e",
   "metadata": {},
   "outputs": [
    {
     "data": {
      "text/plain": [
       "array(['New Zealand Citizen', 'Australian Citizen',\n",
       "       'Total All Citizenships'], dtype=object)"
      ]
     },
     "execution_count": 5,
     "metadata": {},
     "output_type": "execute_result"
    }
   ],
   "source": [
    "df[\"Citizenship\"].unique()"
   ]
  },
  {
   "cell_type": "markdown",
   "id": "9a7a5fce",
   "metadata": {},
   "source": [
    "### Valores únicos en la columna de Year"
   ]
  },
  {
   "cell_type": "code",
   "execution_count": 6,
   "id": "d53a51ce",
   "metadata": {},
   "outputs": [
    {
     "data": {
      "text/plain": [
       "array([1979, 1980, 1981, 1982, 1983, 1984, 1985, 1986, 1987, 1988, 1989,\n",
       "       1990, 1991, 1994, 1992, 1993, 1995, 1996, 1997, 1998, 1999, 2000,\n",
       "       2001, 2002, 2003, 2004, 2005, 2006, 2007, 2008, 2009, 2010, 2011,\n",
       "       2012, 2013, 2014, 2016, 2015], dtype=int64)"
      ]
     },
     "execution_count": 6,
     "metadata": {},
     "output_type": "execute_result"
    }
   ],
   "source": [
    "df[\"Year\"].unique()"
   ]
  },
  {
   "cell_type": "markdown",
   "id": "73b120e4",
   "metadata": {},
   "source": [
    "### Valores únicos en la columna de Country"
   ]
  },
  {
   "cell_type": "code",
   "execution_count": 7,
   "id": "ac4e19da",
   "metadata": {},
   "outputs": [
    {
     "data": {
      "text/plain": [
       "array(['Oceania', 'Antarctica', 'American Samoa', 'Australia',\n",
       "       'Cocos Islands', 'Cook Islands', 'Christmas Island', 'Fiji',\n",
       "       'Micronesia', 'Guam', 'Kiribati', 'Marshall Islands',\n",
       "       'Northern Mariana Islands', 'New Caledonia', 'Norfolk Island',\n",
       "       'Nauru', 'Niue', 'New Zealand', 'French Polynesia',\n",
       "       'Papua New Guinea', 'Pitcairn Island', 'Palau', 'Solomon Islands',\n",
       "       'French Southern Territories', 'Tokelau', 'Tonga', 'Tuvalu',\n",
       "       'Vanuatu', 'Wallis and Futuna', 'Samoa', 'Asia', 'Afghanistan',\n",
       "       'Armenia', 'Azerbaijan', 'Bangladesh', 'Brunei Darussalam',\n",
       "       'Bhutan', 'China', 'Georgia', 'Hong Kong', 'Indonesia', 'India',\n",
       "       'Japan', 'Kyrgyzstan', 'Cambodia', 'North Korea', 'South Korea',\n",
       "       'Kazakhstan', 'Laos', 'Sri Lanka', 'Myanmar', 'Mongolia', 'Macau',\n",
       "       'Maldives', 'Malaysia', 'Nepal', 'Philippines', 'Pakistan',\n",
       "       'Singapore', 'Thailand', 'Tajikistan', 'Timor-Leste',\n",
       "       'Turkmenistan', 'Taiwan', 'Uzbekistan', 'Vietnam', 'Europe',\n",
       "       'Andorra', 'Albania', 'Austria', 'Bosnia and Herzegovina',\n",
       "       'Belgium', 'Bulgaria', 'Belarus', 'Switzerland', 'Czechoslovakia',\n",
       "       'Cyprus', 'Czechia', 'East Germany', 'Germany', 'Denmark',\n",
       "       'Estonia', 'Spain', 'Finland', 'Faeroe Islands', 'France', 'UK',\n",
       "       'Gibraltar', 'Greenland', 'Greece', 'Croatia', 'Hungary',\n",
       "       'Ireland', 'Iceland', 'Italy', 'Kosovo', 'Liechtenstein',\n",
       "       'Lithuania', 'Luxembourg', 'Latvia', 'Monaco', 'Moldova',\n",
       "       'Montenegro', 'Macedonia', 'Malta', 'Netherlands', 'Norway',\n",
       "       'Poland', 'Portugal', 'Romania', 'Serbia', 'Russia', 'Sweden',\n",
       "       'Slovenia', 'Slovakia', 'San Marino', 'USSR', 'Ukraine',\n",
       "       'Vatican City', 'Yugoslavia/Serbia and Montenegro', 'Americas',\n",
       "       'Antigua and Barbuda', 'Anguilla', 'Netherlands Antilles',\n",
       "       'Argentina', 'Aruba', 'Barbados', 'Bermuda', 'Bolivia', 'Brazil',\n",
       "       'Bahamas', 'Belize', 'Canada', 'Chile', 'Colombia', 'Costa Rica',\n",
       "       'Cuba', 'Curacao', 'Dominica', 'Dominican Republic', 'Ecuador',\n",
       "       'Falkland Islands', 'Grenada', 'French Guiana', 'Guadeloupe',\n",
       "       'South Georgia and the South Sandwich Islands', 'Guatemala',\n",
       "       'Guyana', 'Honduras', 'Haiti', 'Jamaica', 'St Kitts and Nevis',\n",
       "       'Cayman Islands', 'St Lucia', 'Martinique', 'Montserrat', 'Mexico',\n",
       "       'Nicaragua', 'Panama', 'Peru', 'St Pierre and Miquelon',\n",
       "       'Puerto Rico', 'Paraguay', 'Suriname', 'El Salvador', 'St Maarten',\n",
       "       'Turks and Caicos', 'Trinidad and Tobago',\n",
       "       'US Minor Outlying Islands', 'USA', 'Uruguay',\n",
       "       'St Vincent and the Grenadines', 'Venezuela',\n",
       "       'British Virgin Islands', 'US Virgin Islands',\n",
       "       'Africa and the Middle East', 'UAE', 'Angola', 'Burkina Faso',\n",
       "       'Bahrain', 'Burundi', 'Benin', 'Botswana',\n",
       "       'Democratic Republic of the Congo', 'Central African Republic',\n",
       "       'Congo', \"Cote d'Ivoire\", 'Cameroon', 'Cape Verde', 'Djibouti',\n",
       "       'Algeria', 'Egypt', 'Western Sahara', 'Eritrea', 'Ethiopia',\n",
       "       'Gabon', 'Ghana', 'Gambia', 'Guinea', 'Equatorial Guinea',\n",
       "       'Guinea-Bissau', 'Israel', 'British Indian Ocean Territory',\n",
       "       'Iraq', 'Iran', 'Jordan', 'Kenya', 'Comoros', 'Kuwait', 'Lebanon',\n",
       "       'Liberia', 'Lesotho', 'Libya', 'Morocco', 'Madagascar', 'Mali',\n",
       "       'Mauritania', 'Mauritius', 'Malawi', 'Mozambique', 'Namibia',\n",
       "       'Niger', 'Nigeria', 'Oman', 'Palestine', 'Qatar', 'Reunion',\n",
       "       'Rwanda', 'Saudi Arabia', 'Seychelles', 'Sudan', 'St Helena',\n",
       "       'Sierra Leone', 'Senegal', 'Somalia', 'South Sudan',\n",
       "       'Sao Tome and Principe', 'Syria', 'Swaziland', 'Chad', 'Togo',\n",
       "       'Tunisia', 'Turkey', 'Tanzania', 'Uganda', 'South Yemen', 'Yemen',\n",
       "       'Mayotte', 'South Africa', 'Zambia', 'Zimbabwe', 'Not stated',\n",
       "       'All countries'], dtype=object)"
      ]
     },
     "execution_count": 7,
     "metadata": {},
     "output_type": "execute_result"
    }
   ],
   "source": [
    "df[\"Country\"].unique()"
   ]
  },
  {
   "cell_type": "markdown",
   "id": "e658e43e",
   "metadata": {},
   "source": [
    "# Preparación de datos"
   ]
  },
  {
   "cell_type": "markdown",
   "id": "30227f24",
   "metadata": {},
   "source": [
    "### Checando si hay datos faltantes"
   ]
  },
  {
   "cell_type": "code",
   "execution_count": 8,
   "id": "887e4f83",
   "metadata": {
    "scrolled": false
   },
   "outputs": [
    {
     "data": {
      "text/plain": [
       "Measure        False\n",
       "Country        False\n",
       "Citizenship    False\n",
       "Year           False\n",
       "Value           True\n",
       "dtype: bool"
      ]
     },
     "execution_count": 8,
     "metadata": {},
     "output_type": "execute_result"
    }
   ],
   "source": [
    "df.isnull().any()"
   ]
  },
  {
   "cell_type": "markdown",
   "id": "3777685b",
   "metadata": {},
   "source": [
    "### Se crea un filtro para separar las entradas que tienen datos faltantes"
   ]
  },
  {
   "cell_type": "code",
   "execution_count": 9,
   "id": "0cf59627",
   "metadata": {},
   "outputs": [
    {
     "data": {
      "text/html": [
       "<div>\n",
       "<style scoped>\n",
       "    .dataframe tbody tr th:only-of-type {\n",
       "        vertical-align: middle;\n",
       "    }\n",
       "\n",
       "    .dataframe tbody tr th {\n",
       "        vertical-align: top;\n",
       "    }\n",
       "\n",
       "    .dataframe thead th {\n",
       "        text-align: right;\n",
       "    }\n",
       "</style>\n",
       "<table border=\"1\" class=\"dataframe\">\n",
       "  <thead>\n",
       "    <tr style=\"text-align: right;\">\n",
       "      <th></th>\n",
       "      <th>Measure</th>\n",
       "      <th>Country</th>\n",
       "      <th>Citizenship</th>\n",
       "      <th>Year</th>\n",
       "      <th>Value</th>\n",
       "    </tr>\n",
       "  </thead>\n",
       "  <tbody>\n",
       "    <tr>\n",
       "      <th>68535</th>\n",
       "      <td>Arrivals</td>\n",
       "      <td>Czechoslovakia</td>\n",
       "      <td>New Zealand Citizen</td>\n",
       "      <td>2009</td>\n",
       "      <td>NaN</td>\n",
       "    </tr>\n",
       "    <tr>\n",
       "      <th>68536</th>\n",
       "      <td>Arrivals</td>\n",
       "      <td>Czechoslovakia</td>\n",
       "      <td>Australian Citizen</td>\n",
       "      <td>2009</td>\n",
       "      <td>NaN</td>\n",
       "    </tr>\n",
       "    <tr>\n",
       "      <th>68537</th>\n",
       "      <td>Arrivals</td>\n",
       "      <td>Czechoslovakia</td>\n",
       "      <td>Total All Citizenships</td>\n",
       "      <td>2009</td>\n",
       "      <td>NaN</td>\n",
       "    </tr>\n",
       "    <tr>\n",
       "      <th>69294</th>\n",
       "      <td>Departures</td>\n",
       "      <td>Czechoslovakia</td>\n",
       "      <td>New Zealand Citizen</td>\n",
       "      <td>2009</td>\n",
       "      <td>NaN</td>\n",
       "    </tr>\n",
       "    <tr>\n",
       "      <th>69295</th>\n",
       "      <td>Departures</td>\n",
       "      <td>Czechoslovakia</td>\n",
       "      <td>Australian Citizen</td>\n",
       "      <td>2009</td>\n",
       "      <td>NaN</td>\n",
       "    </tr>\n",
       "  </tbody>\n",
       "</table>\n",
       "</div>"
      ],
      "text/plain": [
       "          Measure         Country             Citizenship  Year  Value\n",
       "68535    Arrivals  Czechoslovakia     New Zealand Citizen  2009    NaN\n",
       "68536    Arrivals  Czechoslovakia      Australian Citizen  2009    NaN\n",
       "68537    Arrivals  Czechoslovakia  Total All Citizenships  2009    NaN\n",
       "69294  Departures  Czechoslovakia     New Zealand Citizen  2009    NaN\n",
       "69295  Departures  Czechoslovakia      Australian Citizen  2009    NaN"
      ]
     },
     "execution_count": 9,
     "metadata": {},
     "output_type": "execute_result"
    }
   ],
   "source": [
    "ISNULLfiltro = df[\"Value\"].isnull()\n",
    "df[ISNULLfiltro].head()"
   ]
  },
  {
   "cell_type": "markdown",
   "id": "22516d47",
   "metadata": {},
   "source": [
    "### Se cambia el valor NaN por la mediana de la columna y se comprueba que no hayan más."
   ]
  },
  {
   "cell_type": "code",
   "execution_count": 10,
   "id": "f635cf9d",
   "metadata": {},
   "outputs": [],
   "source": [
    "mediana = df[\"Value\"].median()\n",
    "\n",
    "df[\"Value\"].fillna(mediana, inplace=True)"
   ]
  },
  {
   "cell_type": "code",
   "execution_count": 11,
   "id": "cff9c1d9",
   "metadata": {},
   "outputs": [
    {
     "data": {
      "text/plain": [
       "Measure        False\n",
       "Country        False\n",
       "Citizenship    False\n",
       "Year           False\n",
       "Value          False\n",
       "dtype: bool"
      ]
     },
     "execution_count": 11,
     "metadata": {},
     "output_type": "execute_result"
    }
   ],
   "source": [
    "df.isnull().any()"
   ]
  },
  {
   "cell_type": "markdown",
   "id": "4d4ddffd",
   "metadata": {},
   "source": [
    "### Eliminacion de valores donde el Value es 0. Esto ya que como no se registraron personas, no nos sirve para el analisis"
   ]
  },
  {
   "cell_type": "code",
   "execution_count": 12,
   "id": "b52e8220",
   "metadata": {},
   "outputs": [
    {
     "data": {
      "text/html": [
       "<div>\n",
       "<style scoped>\n",
       "    .dataframe tbody tr th:only-of-type {\n",
       "        vertical-align: middle;\n",
       "    }\n",
       "\n",
       "    .dataframe tbody tr th {\n",
       "        vertical-align: top;\n",
       "    }\n",
       "\n",
       "    .dataframe thead th {\n",
       "        text-align: right;\n",
       "    }\n",
       "</style>\n",
       "<table border=\"1\" class=\"dataframe\">\n",
       "  <thead>\n",
       "    <tr style=\"text-align: right;\">\n",
       "      <th></th>\n",
       "      <th>Measure</th>\n",
       "      <th>Country</th>\n",
       "      <th>Citizenship</th>\n",
       "      <th>Year</th>\n",
       "      <th>Value</th>\n",
       "    </tr>\n",
       "  </thead>\n",
       "  <tbody>\n",
       "    <tr>\n",
       "      <th>0</th>\n",
       "      <td>Arrivals</td>\n",
       "      <td>Oceania</td>\n",
       "      <td>New Zealand Citizen</td>\n",
       "      <td>1979</td>\n",
       "      <td>11817.0</td>\n",
       "    </tr>\n",
       "    <tr>\n",
       "      <th>2</th>\n",
       "      <td>Arrivals</td>\n",
       "      <td>Oceania</td>\n",
       "      <td>Total All Citizenships</td>\n",
       "      <td>1979</td>\n",
       "      <td>19965.0</td>\n",
       "    </tr>\n",
       "    <tr>\n",
       "      <th>11</th>\n",
       "      <td>Arrivals</td>\n",
       "      <td>Australia</td>\n",
       "      <td>Total All Citizenships</td>\n",
       "      <td>1979</td>\n",
       "      <td>13037.0</td>\n",
       "    </tr>\n",
       "    <tr>\n",
       "      <th>200</th>\n",
       "      <td>Arrivals</td>\n",
       "      <td>Europe</td>\n",
       "      <td>Total All Citizenships</td>\n",
       "      <td>1979</td>\n",
       "      <td>11452.0</td>\n",
       "    </tr>\n",
       "    <tr>\n",
       "      <th>756</th>\n",
       "      <td>Arrivals</td>\n",
       "      <td>All countries</td>\n",
       "      <td>New Zealand Citizen</td>\n",
       "      <td>1979</td>\n",
       "      <td>21445.0</td>\n",
       "    </tr>\n",
       "    <tr>\n",
       "      <th>...</th>\n",
       "      <td>...</td>\n",
       "      <td>...</td>\n",
       "      <td>...</td>\n",
       "      <td>...</td>\n",
       "      <td>...</td>\n",
       "    </tr>\n",
       "    <tr>\n",
       "      <th>85767</th>\n",
       "      <td>Departures</td>\n",
       "      <td>All countries</td>\n",
       "      <td>Total All Citizenships</td>\n",
       "      <td>2016</td>\n",
       "      <td>56717.0</td>\n",
       "    </tr>\n",
       "    <tr>\n",
       "      <th>85860</th>\n",
       "      <td>Net</td>\n",
       "      <td>Asia</td>\n",
       "      <td>Total All Citizenships</td>\n",
       "      <td>2016</td>\n",
       "      <td>34658.0</td>\n",
       "    </tr>\n",
       "    <tr>\n",
       "      <th>85881</th>\n",
       "      <td>Net</td>\n",
       "      <td>China</td>\n",
       "      <td>Total All Citizenships</td>\n",
       "      <td>2016</td>\n",
       "      <td>10310.0</td>\n",
       "    </tr>\n",
       "    <tr>\n",
       "      <th>85967</th>\n",
       "      <td>Net</td>\n",
       "      <td>Europe</td>\n",
       "      <td>Total All Citizenships</td>\n",
       "      <td>2016</td>\n",
       "      <td>15752.0</td>\n",
       "    </tr>\n",
       "    <tr>\n",
       "      <th>86525</th>\n",
       "      <td>Net</td>\n",
       "      <td>All countries</td>\n",
       "      <td>Total All Citizenships</td>\n",
       "      <td>2016</td>\n",
       "      <td>70588.0</td>\n",
       "    </tr>\n",
       "  </tbody>\n",
       "</table>\n",
       "<p>665 rows × 5 columns</p>\n",
       "</div>"
      ],
      "text/plain": [
       "          Measure        Country             Citizenship  Year    Value\n",
       "0        Arrivals        Oceania     New Zealand Citizen  1979  11817.0\n",
       "2        Arrivals        Oceania  Total All Citizenships  1979  19965.0\n",
       "11       Arrivals      Australia  Total All Citizenships  1979  13037.0\n",
       "200      Arrivals         Europe  Total All Citizenships  1979  11452.0\n",
       "756      Arrivals  All countries     New Zealand Citizen  1979  21445.0\n",
       "...           ...            ...                     ...   ...      ...\n",
       "85767  Departures  All countries  Total All Citizenships  2016  56717.0\n",
       "85860         Net           Asia  Total All Citizenships  2016  34658.0\n",
       "85881         Net          China  Total All Citizenships  2016  10310.0\n",
       "85967         Net         Europe  Total All Citizenships  2016  15752.0\n",
       "86525         Net  All countries  Total All Citizenships  2016  70588.0\n",
       "\n",
       "[665 rows x 5 columns]"
      ]
     },
     "execution_count": 12,
     "metadata": {},
     "output_type": "execute_result"
    }
   ],
   "source": [
    "zeroFilter = (df[\"Value\"] > 10000)\n",
    "df = df[zeroFilter]\n",
    "df"
   ]
  },
  {
   "cell_type": "markdown",
   "id": "ad59724e",
   "metadata": {},
   "source": [
    "### Creación de una muestra de la población por la cantidad de entradas. La muestra es del 50%"
   ]
  },
  {
   "cell_type": "code",
   "execution_count": 13,
   "id": "1546ba47",
   "metadata": {},
   "outputs": [
    {
     "data": {
      "text/html": [
       "<div>\n",
       "<style scoped>\n",
       "    .dataframe tbody tr th:only-of-type {\n",
       "        vertical-align: middle;\n",
       "    }\n",
       "\n",
       "    .dataframe tbody tr th {\n",
       "        vertical-align: top;\n",
       "    }\n",
       "\n",
       "    .dataframe thead th {\n",
       "        text-align: right;\n",
       "    }\n",
       "</style>\n",
       "<table border=\"1\" class=\"dataframe\">\n",
       "  <thead>\n",
       "    <tr style=\"text-align: right;\">\n",
       "      <th></th>\n",
       "      <th>Measure</th>\n",
       "      <th>Country</th>\n",
       "      <th>Citizenship</th>\n",
       "      <th>Year</th>\n",
       "      <th>Value</th>\n",
       "    </tr>\n",
       "  </thead>\n",
       "  <tbody>\n",
       "    <tr>\n",
       "      <th>36632</th>\n",
       "      <td>Arrivals</td>\n",
       "      <td>Europe</td>\n",
       "      <td>Total All Citizenships</td>\n",
       "      <td>1995</td>\n",
       "      <td>19608.0</td>\n",
       "    </tr>\n",
       "    <tr>\n",
       "      <th>79136</th>\n",
       "      <td>Net</td>\n",
       "      <td>Europe</td>\n",
       "      <td>Total All Citizenships</td>\n",
       "      <td>2013</td>\n",
       "      <td>13311.0</td>\n",
       "    </tr>\n",
       "    <tr>\n",
       "      <th>59201</th>\n",
       "      <td>Net</td>\n",
       "      <td>All countries</td>\n",
       "      <td>Total All Citizenships</td>\n",
       "      <td>2004</td>\n",
       "      <td>15108.0</td>\n",
       "    </tr>\n",
       "    <tr>\n",
       "      <th>63956</th>\n",
       "      <td>Arrivals</td>\n",
       "      <td>Europe</td>\n",
       "      <td>Total All Citizenships</td>\n",
       "      <td>2007</td>\n",
       "      <td>26888.0</td>\n",
       "    </tr>\n",
       "    <tr>\n",
       "      <th>35765</th>\n",
       "      <td>Net</td>\n",
       "      <td>Asia</td>\n",
       "      <td>Total All Citizenships</td>\n",
       "      <td>1994</td>\n",
       "      <td>14580.0</td>\n",
       "    </tr>\n",
       "  </tbody>\n",
       "</table>\n",
       "</div>"
      ],
      "text/plain": [
       "        Measure        Country             Citizenship  Year    Value\n",
       "36632  Arrivals         Europe  Total All Citizenships  1995  19608.0\n",
       "79136       Net         Europe  Total All Citizenships  2013  13311.0\n",
       "59201       Net  All countries  Total All Citizenships  2004  15108.0\n",
       "63956  Arrivals         Europe  Total All Citizenships  2007  26888.0\n",
       "35765       Net           Asia  Total All Citizenships  1994  14580.0"
      ]
     },
     "execution_count": 13,
     "metadata": {},
     "output_type": "execute_result"
    }
   ],
   "source": [
    "muestra_aleatoria = df.sample(frac=0.5, random_state=101)\n",
    "muestra_aleatoria.head()"
   ]
  },
  {
   "cell_type": "markdown",
   "id": "a146c151",
   "metadata": {},
   "source": [
    "### Notar si se presentan valores atipicos por histograma"
   ]
  },
  {
   "cell_type": "code",
   "execution_count": 14,
   "id": "a1110120",
   "metadata": {
    "scrolled": true
   },
   "outputs": [
    {
     "data": {
      "image/png": "[encoded data removed]",
      "text/plain": [
       "<Figure size 432x288 with 1 Axes>"
      ]
     },
     "metadata": {
      "needs_background": "light"
     },
     "output_type": "display_data"
    }
   ],
   "source": [
    "plt.hist(muestra_aleatoria[\"Value\"], bins=5)\n",
    "plt.show()"
   ]
  },
  {
   "cell_type": "markdown",
   "id": "74f73f0a",
   "metadata": {},
   "source": [
    "### Boxplot para ver si hay datos atipicos"
   ]
  },
  {
   "cell_type": "code",
   "execution_count": 15,
   "id": "bd8489e6",
   "metadata": {
    "scrolled": true
   },
   "outputs": [
    {
     "data": {
      "text/plain": [
       "<AxesSubplot:xlabel='Value', ylabel='Measure'>"
      ]
     },
     "execution_count": 15,
     "metadata": {},
     "output_type": "execute_result"
    },
    {
     "data": {
      "image/png": "[encoded data removed]",
      "text/plain": [
       "<Figure size 432x288 with 1 Axes>"
      ]
     },
     "metadata": {
      "needs_background": "light"
     },
     "output_type": "display_data"
    }
   ],
   "source": [
    "sns.boxplot(x=muestra_aleatoria[\"Value\"], y = muestra_aleatoria[\"Measure\"], color='skyblue')"
   ]
  },
  {
   "cell_type": "markdown",
   "id": "0b7e3a80",
   "metadata": {},
   "source": [
    "### Violinplot para confirmar la presencia de valores atipicos"
   ]
  },
  {
   "cell_type": "code",
   "execution_count": 16,
   "id": "527e76ab",
   "metadata": {
    "scrolled": true
   },
   "outputs": [
    {
     "data": {
      "image/png": "[encoded data removed]",
      "text/plain": [
       "<Figure size 432x288 with 1 Axes>"
      ]
     },
     "metadata": {
      "needs_background": "light"
     },
     "output_type": "display_data"
    }
   ],
   "source": [
    "sns.violinplot(x=\"Citizenship\", y=\"Value\", data=muestra_aleatoria,split=True,palette='Set1')\n",
    "plt.show()"
   ]
  },
  {
   "cell_type": "markdown",
   "id": "a9b5d257",
   "metadata": {},
   "source": [
    "# Modelado de Datos"
   ]
  },
  {
   "cell_type": "markdown",
   "id": "6eee06e3",
   "metadata": {},
   "source": [
    "### Medidas de tendencia y de disperción"
   ]
  },
  {
   "cell_type": "code",
   "execution_count": 17,
   "id": "41fb30fa",
   "metadata": {},
   "outputs": [
    {
     "data": {
      "text/plain": [
       "count      332.000000\n",
       "mean     26047.695783\n",
       "std      16715.805625\n",
       "min      10042.000000\n",
       "25%      13884.000000\n",
       "50%      19762.000000\n",
       "75%      33866.500000\n",
       "max      92660.000000\n",
       "Name: Value, dtype: float64"
      ]
     },
     "execution_count": 17,
     "metadata": {},
     "output_type": "execute_result"
    }
   ],
   "source": [
    "muestra_aleatoria.describe()[\"Value\"]"
   ]
  },
  {
   "cell_type": "markdown",
   "id": "10ad9491",
   "metadata": {},
   "source": [
    "### Obteniendo la moda de cada variable"
   ]
  },
  {
   "cell_type": "code",
   "execution_count": 18,
   "id": "98714d69",
   "metadata": {},
   "outputs": [
    {
     "data": {
      "text/html": [
       "<div>\n",
       "<style scoped>\n",
       "    .dataframe tbody tr th:only-of-type {\n",
       "        vertical-align: middle;\n",
       "    }\n",
       "\n",
       "    .dataframe tbody tr th {\n",
       "        vertical-align: top;\n",
       "    }\n",
       "\n",
       "    .dataframe thead th {\n",
       "        text-align: right;\n",
       "    }\n",
       "</style>\n",
       "<table border=\"1\" class=\"dataframe\">\n",
       "  <thead>\n",
       "    <tr style=\"text-align: right;\">\n",
       "      <th></th>\n",
       "      <th>Measure</th>\n",
       "      <th>Country</th>\n",
       "      <th>Citizenship</th>\n",
       "      <th>Year</th>\n",
       "      <th>Value</th>\n",
       "    </tr>\n",
       "  </thead>\n",
       "  <tbody>\n",
       "    <tr>\n",
       "      <th>0</th>\n",
       "      <td>Departures</td>\n",
       "      <td>All countries</td>\n",
       "      <td>Total All Citizenships</td>\n",
       "      <td>2004.0</td>\n",
       "      <td>10816.0</td>\n",
       "    </tr>\n",
       "    <tr>\n",
       "      <th>1</th>\n",
       "      <td>NaN</td>\n",
       "      <td>NaN</td>\n",
       "      <td>NaN</td>\n",
       "      <td>NaN</td>\n",
       "      <td>13938.0</td>\n",
       "    </tr>\n",
       "    <tr>\n",
       "      <th>2</th>\n",
       "      <td>NaN</td>\n",
       "      <td>NaN</td>\n",
       "      <td>NaN</td>\n",
       "      <td>NaN</td>\n",
       "      <td>19608.0</td>\n",
       "    </tr>\n",
       "    <tr>\n",
       "      <th>3</th>\n",
       "      <td>NaN</td>\n",
       "      <td>NaN</td>\n",
       "      <td>NaN</td>\n",
       "      <td>NaN</td>\n",
       "      <td>28981.0</td>\n",
       "    </tr>\n",
       "  </tbody>\n",
       "</table>\n",
       "</div>"
      ],
      "text/plain": [
       "      Measure        Country             Citizenship    Year    Value\n",
       "0  Departures  All countries  Total All Citizenships  2004.0  10816.0\n",
       "1         NaN            NaN                     NaN     NaN  13938.0\n",
       "2         NaN            NaN                     NaN     NaN  19608.0\n",
       "3         NaN            NaN                     NaN     NaN  28981.0"
      ]
     },
     "execution_count": 18,
     "metadata": {},
     "output_type": "execute_result"
    }
   ],
   "source": [
    "muestra_aleatoria.mode()"
   ]
  },
  {
   "cell_type": "markdown",
   "id": "b8d18895",
   "metadata": {},
   "source": [
    "### Cálculo de la mediana"
   ]
  },
  {
   "cell_type": "code",
   "execution_count": 19,
   "id": "d05dc8fa",
   "metadata": {},
   "outputs": [
    {
     "data": {
      "text/plain": [
       "19762.0"
      ]
     },
     "execution_count": 19,
     "metadata": {},
     "output_type": "execute_result"
    }
   ],
   "source": [
    "muestra_aleatoria[\"Value\"].median()"
   ]
  },
  {
   "cell_type": "markdown",
   "id": "dd4a14a6",
   "metadata": {},
   "source": [
    "### La varianza de las variables númericas"
   ]
  },
  {
   "cell_type": "code",
   "execution_count": 20,
   "id": "bbd71ee6",
   "metadata": {},
   "outputs": [
    {
     "data": {
      "text/plain": [
       "279418157.68662894"
      ]
     },
     "execution_count": 20,
     "metadata": {},
     "output_type": "execute_result"
    }
   ],
   "source": [
    "muestra_aleatoria[\"Value\"].var()"
   ]
  },
  {
   "cell_type": "markdown",
   "id": "70390c9b",
   "metadata": {},
   "source": [
    "### La asimetria de las variables númerica"
   ]
  },
  {
   "cell_type": "code",
   "execution_count": 21,
   "id": "5b73f917",
   "metadata": {},
   "outputs": [
    {
     "data": {
      "text/plain": [
       "1.5440470649225888"
      ]
     },
     "execution_count": 21,
     "metadata": {},
     "output_type": "execute_result"
    }
   ],
   "source": [
    "muestra_aleatoria[\"Value\"].skew()"
   ]
  },
  {
   "cell_type": "markdown",
   "id": "e9d14241",
   "metadata": {},
   "source": [
    "### Cálculo del coeficiente de variación"
   ]
  },
  {
   "cell_type": "code",
   "execution_count": 22,
   "id": "47b1b0b2",
   "metadata": {},
   "outputs": [
    {
     "data": {
      "text/plain": [
       "0.641738361964457"
      ]
     },
     "execution_count": 22,
     "metadata": {},
     "output_type": "execute_result"
    }
   ],
   "source": [
    "muestra_aleatoria[\"Value\"].std() / muestra_aleatoria[\"Value\"].mean()"
   ]
  },
  {
   "cell_type": "markdown",
   "id": "e9c13f05",
   "metadata": {},
   "source": [
    "### Curtosis del conjunto de datos"
   ]
  },
  {
   "cell_type": "code",
   "execution_count": 23,
   "id": "80e98ea7",
   "metadata": {},
   "outputs": [
    {
     "data": {
      "text/plain": [
       "2.226532616233525"
      ]
     },
     "execution_count": 23,
     "metadata": {},
     "output_type": "execute_result"
    }
   ],
   "source": [
    "muestra_aleatoria[\"Value\"].kurtosis()"
   ]
  },
  {
   "cell_type": "markdown",
   "id": "915ae546",
   "metadata": {},
   "source": [
    "### Agrupacion de la suma de personas, segmentada por la ciudadania y tipo de vuelo"
   ]
  },
  {
   "cell_type": "code",
   "execution_count": 24,
   "id": "1c865991",
   "metadata": {},
   "outputs": [
    {
     "data": {
      "text/html": [
       "<div>\n",
       "<style scoped>\n",
       "    .dataframe tbody tr th:only-of-type {\n",
       "        vertical-align: middle;\n",
       "    }\n",
       "\n",
       "    .dataframe tbody tr th {\n",
       "        vertical-align: top;\n",
       "    }\n",
       "\n",
       "    .dataframe thead th {\n",
       "        text-align: right;\n",
       "    }\n",
       "</style>\n",
       "<table border=\"1\" class=\"dataframe\">\n",
       "  <thead>\n",
       "    <tr style=\"text-align: right;\">\n",
       "      <th>Measure</th>\n",
       "      <th>Arrivals</th>\n",
       "      <th>Departures</th>\n",
       "      <th>Net</th>\n",
       "    </tr>\n",
       "    <tr>\n",
       "      <th>Citizenship</th>\n",
       "      <th></th>\n",
       "      <th></th>\n",
       "      <th></th>\n",
       "    </tr>\n",
       "  </thead>\n",
       "  <tbody>\n",
       "    <tr>\n",
       "      <th>New Zealand Citizen</th>\n",
       "      <td>729662.0</td>\n",
       "      <td>2011762.0</td>\n",
       "      <td>NaN</td>\n",
       "    </tr>\n",
       "    <tr>\n",
       "      <th>Total All Citizenships</th>\n",
       "      <td>2661622.0</td>\n",
       "      <td>2787060.0</td>\n",
       "      <td>457729.0</td>\n",
       "    </tr>\n",
       "  </tbody>\n",
       "</table>\n",
       "</div>"
      ],
      "text/plain": [
       "Measure                  Arrivals  Departures       Net\n",
       "Citizenship                                            \n",
       "New Zealand Citizen      729662.0   2011762.0       NaN\n",
       "Total All Citizenships  2661622.0   2787060.0  457729.0"
      ]
     },
     "execution_count": 24,
     "metadata": {},
     "output_type": "execute_result"
    }
   ],
   "source": [
    "muestra_aleatoria.pivot_table(values = \"Value\", index= \"Citizenship\", columns = \"Measure\", aggfunc = sum)"
   ]
  },
  {
   "cell_type": "markdown",
   "id": "ec2cdacd",
   "metadata": {},
   "source": [
    "### Conteo de entradas por nacionalidad"
   ]
  },
  {
   "cell_type": "code",
   "execution_count": 25,
   "id": "5f6b64f1",
   "metadata": {},
   "outputs": [
    {
     "data": {
      "image/png": "[encoded data removed]",
      "text/plain": [
       "<Figure size 432x288 with 1 Axes>"
      ]
     },
     "metadata": {
      "needs_background": "light"
     },
     "output_type": "display_data"
    }
   ],
   "source": [
    "sns.countplot(x='Citizenship',data=muestra_aleatoria)\n",
    "plt.show()"
   ]
  },
  {
   "cell_type": "code",
   "execution_count": 26,
   "id": "a6e8834d",
   "metadata": {},
   "outputs": [
    {
     "data": {
      "text/html": [
       "<div>\n",
       "<style scoped>\n",
       "    .dataframe tbody tr th:only-of-type {\n",
       "        vertical-align: middle;\n",
       "    }\n",
       "\n",
       "    .dataframe tbody tr th {\n",
       "        vertical-align: top;\n",
       "    }\n",
       "\n",
       "    .dataframe thead th {\n",
       "        text-align: right;\n",
       "    }\n",
       "</style>\n",
       "<table border=\"1\" class=\"dataframe\">\n",
       "  <thead>\n",
       "    <tr style=\"text-align: right;\">\n",
       "      <th></th>\n",
       "      <th>Citizenship</th>\n",
       "      <th>Value</th>\n",
       "    </tr>\n",
       "  </thead>\n",
       "  <tbody>\n",
       "    <tr>\n",
       "      <th>0</th>\n",
       "      <td>New Zealand Citizen</td>\n",
       "      <td>106</td>\n",
       "    </tr>\n",
       "    <tr>\n",
       "      <th>1</th>\n",
       "      <td>Total All Citizenships</td>\n",
       "      <td>226</td>\n",
       "    </tr>\n",
       "  </tbody>\n",
       "</table>\n",
       "</div>"
      ],
      "text/plain": [
       "              Citizenship  Value\n",
       "0     New Zealand Citizen    106\n",
       "1  Total All Citizenships    226"
      ]
     },
     "execution_count": 26,
     "metadata": {},
     "output_type": "execute_result"
    }
   ],
   "source": [
    "CitiGroupBy = muestra_aleatoria.groupby(\"Citizenship\")[\"Value\"].count()\n",
    "CitiGroupBy = pd.DataFrame(CitiGroupBy).reset_index()\n",
    "CitiGroupBy.head()"
   ]
  },
  {
   "cell_type": "markdown",
   "id": "6d2e6608",
   "metadata": {},
   "source": [
    "### Conteo de entradas por modo de vuelo"
   ]
  },
  {
   "cell_type": "code",
   "execution_count": 27,
   "id": "e873958e",
   "metadata": {},
   "outputs": [
    {
     "data": {
      "image/png": "[encoded data removed]",
      "text/plain": [
       "<Figure size 432x288 with 1 Axes>"
      ]
     },
     "metadata": {
      "needs_background": "light"
     },
     "output_type": "display_data"
    }
   ],
   "source": [
    "sns.countplot(x='Measure',data=muestra_aleatoria)\n",
    "plt.show()"
   ]
  },
  {
   "cell_type": "code",
   "execution_count": 28,
   "id": "cd2ef2fd",
   "metadata": {},
   "outputs": [
    {
     "data": {
      "text/html": [
       "<div>\n",
       "<style scoped>\n",
       "    .dataframe tbody tr th:only-of-type {\n",
       "        vertical-align: middle;\n",
       "    }\n",
       "\n",
       "    .dataframe tbody tr th {\n",
       "        vertical-align: top;\n",
       "    }\n",
       "\n",
       "    .dataframe thead th {\n",
       "        text-align: right;\n",
       "    }\n",
       "</style>\n",
       "<table border=\"1\" class=\"dataframe\">\n",
       "  <thead>\n",
       "    <tr style=\"text-align: right;\">\n",
       "      <th></th>\n",
       "      <th>Measure</th>\n",
       "      <th>Value</th>\n",
       "    </tr>\n",
       "  </thead>\n",
       "  <tbody>\n",
       "    <tr>\n",
       "      <th>0</th>\n",
       "      <td>Arrivals</td>\n",
       "      <td>153</td>\n",
       "    </tr>\n",
       "    <tr>\n",
       "      <th>1</th>\n",
       "      <td>Departures</td>\n",
       "      <td>154</td>\n",
       "    </tr>\n",
       "    <tr>\n",
       "      <th>2</th>\n",
       "      <td>Net</td>\n",
       "      <td>25</td>\n",
       "    </tr>\n",
       "  </tbody>\n",
       "</table>\n",
       "</div>"
      ],
      "text/plain": [
       "      Measure  Value\n",
       "0    Arrivals    153\n",
       "1  Departures    154\n",
       "2         Net     25"
      ]
     },
     "execution_count": 28,
     "metadata": {},
     "output_type": "execute_result"
    }
   ],
   "source": [
    "MeasureGroupBy = muestra_aleatoria.groupby(\"Measure\")[\"Value\"].count()\n",
    "MeasureGroupBy = pd.DataFrame(MeasureGroupBy).reset_index()\n",
    "MeasureGroupBy.head()"
   ]
  },
  {
   "cell_type": "markdown",
   "id": "50ae290e",
   "metadata": {},
   "source": [
    "### Paises mas comunes"
   ]
  },
  {
   "cell_type": "code",
   "execution_count": 29,
   "id": "9335f3a8",
   "metadata": {},
   "outputs": [
    {
     "data": {
      "text/plain": [
       "<AxesSubplot:xlabel='Country'>"
      ]
     },
     "execution_count": 29,
     "metadata": {},
     "output_type": "execute_result"
    },
    {
     "data": {
      "image/png": "[encoded data removed]",
      "text/plain": [
       "<Figure size 432x288 with 1 Axes>"
      ]
     },
     "metadata": {
      "needs_background": "light"
     },
     "output_type": "display_data"
    }
   ],
   "source": [
    "top_10_paises = muestra_aleatoria.groupby(\"Country\")[\"Value\"].sum().sort_values(ascending=False).head(5)\n",
    "top_10_paises.plot(kind=\"bar\")"
   ]
  },
  {
   "cell_type": "markdown",
   "id": "44a25028",
   "metadata": {},
   "source": [
    "### Scatterplot para notar algun tipo de correlación"
   ]
  },
  {
   "cell_type": "code",
   "execution_count": 30,
   "id": "3e588a40",
   "metadata": {},
   "outputs": [
    {
     "data": {
      "text/plain": [
       "<seaborn.axisgrid.FacetGrid at 0x1b2fa075c40>"
      ]
     },
     "execution_count": 30,
     "metadata": {},
     "output_type": "execute_result"
    },
    {
     "data": {
      "image/png": "[encoded data removed]",
      "text/plain": [
       "<Figure size 360x360 with 1 Axes>"
      ]
     },
     "metadata": {
      "needs_background": "light"
     },
     "output_type": "display_data"
    }
   ],
   "source": [
    "sns.lmplot(x='Year',y='Value',data=muestra_aleatoria)"
   ]
  },
  {
   "cell_type": "markdown",
   "id": "a3b7b2b5",
   "metadata": {},
   "source": [
    "### Scatterplot segmentado por ciudadania"
   ]
  },
  {
   "cell_type": "code",
   "execution_count": 31,
   "id": "8a61ce26",
   "metadata": {
    "scrolled": true
   },
   "outputs": [
    {
     "data": {
      "text/plain": [
       "<seaborn.axisgrid.FacetGrid at 0x1b2fa091670>"
      ]
     },
     "execution_count": 31,
     "metadata": {},
     "output_type": "execute_result"
    },
    {
     "data": {
      "image/png": "[encoded data removed]",
      "text/plain": [
       "<Figure size 720x360 with 2 Axes>"
      ]
     },
     "metadata": {
      "needs_background": "light"
     },
     "output_type": "display_data"
    }
   ],
   "source": [
    "sns.lmplot(x='Year',y='Value',data=muestra_aleatoria,col = \"Citizenship\")"
   ]
  },
  {
   "cell_type": "markdown",
   "id": "dd0eba55",
   "metadata": {},
   "source": [
    "### Agrupacion por año para saber la suma de sus valores"
   ]
  },
  {
   "cell_type": "code",
   "execution_count": 32,
   "id": "0bdd0e0d",
   "metadata": {},
   "outputs": [
    {
     "data": {
      "text/html": [
       "<div>\n",
       "<style scoped>\n",
       "    .dataframe tbody tr th:only-of-type {\n",
       "        vertical-align: middle;\n",
       "    }\n",
       "\n",
       "    .dataframe tbody tr th {\n",
       "        vertical-align: top;\n",
       "    }\n",
       "\n",
       "    .dataframe thead th {\n",
       "        text-align: right;\n",
       "    }\n",
       "</style>\n",
       "<table border=\"1\" class=\"dataframe\">\n",
       "  <thead>\n",
       "    <tr style=\"text-align: right;\">\n",
       "      <th></th>\n",
       "      <th>Year</th>\n",
       "      <th>Value</th>\n",
       "    </tr>\n",
       "  </thead>\n",
       "  <tbody>\n",
       "    <tr>\n",
       "      <th>0</th>\n",
       "      <td>1979</td>\n",
       "      <td>145128.0</td>\n",
       "    </tr>\n",
       "    <tr>\n",
       "      <th>1</th>\n",
       "      <td>1980</td>\n",
       "      <td>192047.0</td>\n",
       "    </tr>\n",
       "    <tr>\n",
       "      <th>2</th>\n",
       "      <td>1981</td>\n",
       "      <td>234329.0</td>\n",
       "    </tr>\n",
       "    <tr>\n",
       "      <th>3</th>\n",
       "      <td>1982</td>\n",
       "      <td>208668.0</td>\n",
       "    </tr>\n",
       "    <tr>\n",
       "      <th>4</th>\n",
       "      <td>1983</td>\n",
       "      <td>156029.0</td>\n",
       "    </tr>\n",
       "  </tbody>\n",
       "</table>\n",
       "</div>"
      ],
      "text/plain": [
       "   Year     Value\n",
       "0  1979  145128.0\n",
       "1  1980  192047.0\n",
       "2  1981  234329.0\n",
       "3  1982  208668.0\n",
       "4  1983  156029.0"
      ]
     },
     "execution_count": 32,
     "metadata": {},
     "output_type": "execute_result"
    }
   ],
   "source": [
    "YearGroupBy = muestra_aleatoria.groupby(\"Year\")[\"Value\"].sum()\n",
    "YearGroupBy = pd.DataFrame(YearGroupBy).reset_index()\n",
    "YearGroupBy.head()"
   ]
  },
  {
   "cell_type": "markdown",
   "id": "0863d131",
   "metadata": {},
   "source": [
    "### Lineplot"
   ]
  },
  {
   "cell_type": "code",
   "execution_count": 33,
   "id": "af22f3ce",
   "metadata": {},
   "outputs": [
    {
     "data": {
      "text/plain": [
       "Text(0.5, 1.0, 'Line Chart of Value over Time')"
      ]
     },
     "execution_count": 33,
     "metadata": {},
     "output_type": "execute_result"
    },
    {
     "data": {
      "image/png": "[encoded data removed]",
      "text/plain": [
       "<Figure size 720x432 with 1 Axes>"
      ]
     },
     "metadata": {
      "needs_background": "light"
     },
     "output_type": "display_data"
    }
   ],
   "source": [
    "plt.figure(figsize=(10, 6))\n",
    "plt.plot(YearGroupBy[\"Year\"], YearGroupBy[\"Value\"], marker='o', linestyle='-')\n",
    "plt.xlabel('Year')\n",
    "plt.ylabel('Value')\n",
    "plt.title('Line Chart of Value over Time')"
   ]
  },
  {
   "cell_type": "markdown",
   "id": "3ecb44a7",
   "metadata": {},
   "source": [
    "## Preparación del dataset para un futuro algoritmo de Machine Learning"
   ]
  },
  {
   "cell_type": "markdown",
   "id": "1960c8e4",
   "metadata": {},
   "source": [
    "### Creacion de dummies para las variables categoricas"
   ]
  },
  {
   "cell_type": "code",
   "execution_count": 34,
   "id": "f21838b1",
   "metadata": {},
   "outputs": [],
   "source": [
    "dummies = pd.get_dummies(df['Measure'], drop_first=True)\n",
    "\n",
    "df_ml = pd.concat([df, dummies], axis=1)\n",
    "df_ml.head()\n",
    "\n",
    "df_ml.to_csv('df_ml.csv', index=False)"
   ]
  },
  {
   "cell_type": "markdown",
   "id": "cdab3907",
   "metadata": {},
   "source": [
    "### Preparación del dataset para entrenar y evaluar el modelo"
   ]
  },
  {
   "cell_type": "code",
   "execution_count": 35,
   "id": "fbd4dbee",
   "metadata": {},
   "outputs": [],
   "source": [
    "from sklearn.model_selection import train_test_split\n",
    "\n",
    "X = df_ml[[\"Year\", \"Departures\", \"Net\" ]]\n",
    "y = df_ml[\"Value\"]\n",
    "X_train, X_test, y_train, y_test = train_test_split(X, y, test_size=0.30, random_state = 101) "
   ]
  },
  {
   "cell_type": "markdown",
   "id": "f2eca9b5",
   "metadata": {},
   "source": [
    "### Datasets listos"
   ]
  },
  {
   "cell_type": "code",
   "execution_count": 36,
   "id": "36d165dc",
   "metadata": {},
   "outputs": [
    {
     "data": {
      "text/html": [
       "<div>\n",
       "<style scoped>\n",
       "    .dataframe tbody tr th:only-of-type {\n",
       "        vertical-align: middle;\n",
       "    }\n",
       "\n",
       "    .dataframe tbody tr th {\n",
       "        vertical-align: top;\n",
       "    }\n",
       "\n",
       "    .dataframe thead th {\n",
       "        text-align: right;\n",
       "    }\n",
       "</style>\n",
       "<table border=\"1\" class=\"dataframe\">\n",
       "  <thead>\n",
       "    <tr style=\"text-align: right;\">\n",
       "      <th></th>\n",
       "      <th>Year</th>\n",
       "      <th>Departures</th>\n",
       "      <th>Net</th>\n",
       "    </tr>\n",
       "  </thead>\n",
       "  <tbody>\n",
       "    <tr>\n",
       "      <th>85006</th>\n",
       "      <td>2016</td>\n",
       "      <td>0</td>\n",
       "      <td>0</td>\n",
       "    </tr>\n",
       "    <tr>\n",
       "      <th>4554</th>\n",
       "      <td>1981</td>\n",
       "      <td>0</td>\n",
       "      <td>0</td>\n",
       "    </tr>\n",
       "    <tr>\n",
       "      <th>52571</th>\n",
       "      <td>2002</td>\n",
       "      <td>0</td>\n",
       "      <td>0</td>\n",
       "    </tr>\n",
       "    <tr>\n",
       "      <th>27326</th>\n",
       "      <td>1991</td>\n",
       "      <td>0</td>\n",
       "      <td>0</td>\n",
       "    </tr>\n",
       "    <tr>\n",
       "      <th>59963</th>\n",
       "      <td>2005</td>\n",
       "      <td>1</td>\n",
       "      <td>0</td>\n",
       "    </tr>\n",
       "  </tbody>\n",
       "</table>\n",
       "</div>"
      ],
      "text/plain": [
       "       Year  Departures  Net\n",
       "85006  2016           0    0\n",
       "4554   1981           0    0\n",
       "52571  2002           0    0\n",
       "27326  1991           0    0\n",
       "59963  2005           1    0"
      ]
     },
     "execution_count": 36,
     "metadata": {},
     "output_type": "execute_result"
    }
   ],
   "source": [
    "X_train.head()"
   ]
  },
  {
   "cell_type": "code",
   "execution_count": 37,
   "id": "43087d0d",
   "metadata": {},
   "outputs": [
    {
     "data": {
      "text/plain": [
       "85006    31671.0\n",
       "4554     13456.0\n",
       "52571    24685.0\n",
       "27326    18006.0\n",
       "59963    36817.0\n",
       "Name: Value, dtype: float64"
      ]
     },
     "execution_count": 37,
     "metadata": {},
     "output_type": "execute_result"
    }
   ],
   "source": [
    "y_train.head()"
   ]
  }
 ],
 "metadata": {
  "kernelspec": {
   "display_name": "Python 3 (ipykernel)",
   "language": "python",
   "name": "python3"
  },
  "language_info": {
   "codemirror_mode": {
    "name": "ipython",
    "version": 3
   },
   "file_extension": ".py",
   "mimetype": "text/x-python",
   "name": "python",
   "nbconvert_exporter": "python",
   "pygments_lexer": "ipython3",
   "version": "3.9.7"
  }
 },
 "nbformat": 4,
 "nbformat_minor": 5
}
